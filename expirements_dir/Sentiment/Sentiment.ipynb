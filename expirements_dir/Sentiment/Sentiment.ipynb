{
 "cells": [
  {
   "cell_type": "markdown",
   "id": "3d6b5d9e-0415-4d96-be78-fff4b9b26bbf",
   "metadata": {},
   "source": [
    "# Examples of the expeirements that aim to determine the sentiment of song lyrics(Before turning to OpenAI)"
   ]
  },
  {
   "cell_type": "markdown",
   "id": "965e4110-0334-4beb-bb9a-12eda7bc6690",
   "metadata": {},
   "source": [
    "Examples of the expeirements that aim to determine the sentiment of song lyrics by splitting them into different sentences and analyzing each part separately.\n",
    "\n",
    "The initial analysis indicated that the overall sentiment of the entire song often did not accurately reflect the sentiment.\n",
    "\n",
    "Perhaps different splitting and averaging of the results would give better sentiment.\n"
   ]
  },
  {
   "cell_type": "code",
   "execution_count": 3,
   "id": "e8ef9cee-a519-4407-9a79-26850548e2ba",
   "metadata": {},
   "outputs": [],
   "source": [
    "song = \"\\nYa me han informado que tu novio es un insípido aburrido\\nTú que eres fogata y él tan frío\\nDice tu amiguita que es celoso no quiere que sea tu amigo\\nSospecha que soy un pirata y robaré su flor\\n\\nNo te asombres si una noche\\nEntro a tu cuarto y nuevamente te hago mía\\nBien conoces mis errores\\nEl egoísmo ha de ser dueño de tu vida\\nEres mía mía mía\\nNo te hagas la loca eso muy bien ya lo sabías\\n\\nSi tú te casas\\nEl día de tu boda le digo a tu esposo con risas\\nQue solo es prestada la mujer que ama\\nPorque sigues siendo mía\\n\\nYou won't forget Romeo\\nAh-ah\\nGostoso\\nYou might also likeDicen que un clavo saca un clavo pero eso es solo rima\\nNo existe una herramienta que saque mi amor\\n\\nNo te asombres si una noche\\nEntro a tu cuarto y nuevamente te hago mía\\nBien conoces mis errores\\nEl egoísmo ha de ser dueño de tu vida\\nEres mía mía mía\\nNo te hagas la loca eso muy bien ya lo sabías\\n\\nSi tú te casas\\nEl día de tu boda le digo a tu esposo con risas\\nQue solo es prestada la mujer que ama\\nPorque sigues siendo mía\\n\\nTe deseo lo mejor\\nY el mejor soy yo\\nThe King\\n\\nYou know your heart is mine\\nAnd you'll love me forever\\nYou know your heart is mine\\nAnd you'll love me forever\\nBaby your heart is mine\\nAnd you'll love me forever\\nBaby your heart is mine\\nAnd you'll love me forever\\nNo te asombres si una noche\\nEntro a tu cuarto y nuevamente te hago mía\\nBien conoces mis errores\\nEl egoísmo ha de ser dueño de tu vida\\nEres mía mía mía mía\\nNo te hagas la loca eso muy bien ya lo sabías\\n\\nSi tú te casas\\nEl día de tu boda le digo a tu esposo con risas\\nQue solo es prestada la mujer que ama\\nPorque sigues siendo mía\""
   ]
  },
  {
   "cell_type": "code",
   "execution_count": 17,
   "id": "76efd0a8-0846-4da0-98b5-021b72e3df29",
   "metadata": {},
   "outputs": [
    {
     "data": {
      "text/plain": [
       "AnalyzerOutput(output=NEU, probas={NEU: 0.504, NEG: 0.439, POS: 0.057})"
      ]
     },
     "execution_count": 17,
     "metadata": {},
     "output_type": "execute_result"
    }
   ],
   "source": [
    "#### robertuito-sentiment-analysis model\n",
    "## Base model is RoBERTuito, a RoBERTa model trained in Spanish tweets (around ~5k tweets).from pysentimiento import create_analyzer\n",
    "from pysentimiento import create_analyzer\n",
    "analyzer = create_analyzer(task=\"sentiment\", lang=\"es\")\n",
    "\n",
    "analyzer = create_analyzer(task=\"sentiment\", lang=\"es\")\n",
    "\n",
    "analyzer.predict(song)"
   ]
  },
  {
   "cell_type": "code",
   "execution_count": 19,
   "id": "37789ed9-8638-438c-87a1-67357b78df28",
   "metadata": {},
   "outputs": [
    {
     "name": "stdout",
     "output_type": "stream",
     "text": [
      "sentence:\n",
      " Ya me han informado que tu novio es un insípido aburrido\n",
      "{'NEG': 0.9352328181266785, 'NEU': 0.05975774675607681, 'POS': 0.005009349901229143}\n",
      "\n",
      "\n",
      "sentence:\n",
      " Tú que eres fogata y él tan frío\n",
      "{'NEG': 0.8061798810958862, 'NEU': 0.1691652536392212, 'POS': 0.024654878303408623}\n",
      "\n",
      "\n",
      "sentence:\n",
      " Dice tu amiguita que es celoso no quiere que sea tu amigo\n",
      "{'NEG': 0.8054117560386658, 'NEU': 0.17340312898159027, 'POS': 0.02118520438671112}\n",
      "\n",
      "\n",
      "sentence:\n",
      " Sospecha que soy un pirata y robaré su flor\n",
      "{'NEG': 0.08509925752878189, 'NEU': 0.7736026644706726, 'POS': 0.14129804074764252}\n",
      "\n",
      "\n",
      "sentence:\n",
      " No te asombres si una noche\n",
      "{'NEG': 0.0855337530374527, 'NEU': 0.8283083438873291, 'POS': 0.08615799993276596}\n",
      "\n",
      "\n",
      "sentence:\n",
      " Entro a tu cuarto y nuevamente te hago mía\n",
      "{'NEG': 0.03125055879354477, 'NEU': 0.5860592126846313, 'POS': 0.3826901614665985}\n",
      "\n",
      "\n"
     ]
    }
   ],
   "source": [
    "aa = []\n",
    "for sentence in song.split('\\n')[:8]:\n",
    "    if len(sentence):\n",
    "        print('sentence:\\n',sentence)\n",
    "        sen = analyzer.predict(sentence).probas\n",
    "        print(sen)\n",
    "        aa.append(sen)\n",
    "        print('\\n')"
   ]
  },
  {
   "cell_type": "code",
   "execution_count": 20,
   "id": "a23329af-097d-482d-b1ed-1daebfc02156",
   "metadata": {},
   "outputs": [
    {
     "name": "stdout",
     "output_type": "stream",
     "text": [
      "0.4581180041035016 0.43171605840325356 0.11016593912305932\n"
     ]
    }
   ],
   "source": [
    "NEG, NEU, POS = 0, 0, 0\n",
    "\n",
    "for item in aa:\n",
    "    neg_value, neu_value, pos_value = item.values()\n",
    "    NEG += neg_value\n",
    "    NEU += neu_value\n",
    "    POS += pos_value\n",
    "    \n",
    "print(NEG/len(aa),NEU/len(aa),POS/len(aa))"
   ]
  },
  {
   "cell_type": "code",
   "execution_count": 1,
   "id": "afd35044-afdf-4699-b972-0e26751e7eda",
   "metadata": {},
   "outputs": [
    {
     "name": "stdout",
     "output_type": "stream",
     "text": [
      "analyis the overall sentiment in terms of:\n",
      "neural, positive, negative\n",
      "for the following song:\n",
      "\n",
      "{song}\n",
      "\n",
      "nwrite only in json formt with the appropriate decimal percentage\n"
     ]
    }
   ],
   "source": [
    "print('analyis the overall sentiment in terms of:\\nneural, positive, negative\\nfor the following song:\\n\\n{song}\\n\\nnwrite only in json formt with the appropriate decimal percentage')"
   ]
  },
  {
   "cell_type": "markdown",
   "id": "39ad3adc-1672-436d-89dc-5d3098cbe266",
   "metadata": {},
   "source": [
    "# Trying varying sentence lengths to observe changes in sentiment."
   ]
  },
  {
   "cell_type": "code",
   "execution_count": 11,
   "id": "eeb38b31-fc0e-48b7-b15a-104e8fba227f",
   "metadata": {},
   "outputs": [
    {
     "data": {
      "text/plain": [
       "AnalyzerOutput(output=NEG, probas={NEG: 0.808, NEU: 0.178, POS: 0.013})"
      ]
     },
     "execution_count": 11,
     "metadata": {},
     "output_type": "execute_result"
    }
   ],
   "source": [
    "analyzer.predict(\"\\nYa me han informado que tu novio es un insípido aburrido\\nTú que eres fogata y él tan frío\\nDice tu amiguita que es celoso no quiere que sea tu amigo\\nSospecha que soy un pirata y robaré su flor\\n\\n\")"
   ]
  },
  {
   "cell_type": "code",
   "execution_count": 12,
   "id": "f32b2507-8dcb-4c80-8508-9a41940cbb05",
   "metadata": {},
   "outputs": [
    {
     "data": {
      "text/plain": [
       "AnalyzerOutput(output=NEG, probas={NEG: 0.675, NEU: 0.302, POS: 0.023})"
      ]
     },
     "execution_count": 12,
     "metadata": {},
     "output_type": "execute_result"
    }
   ],
   "source": [
    "analyzer.predict(\"\\nYa me han informado que tu novio es un insípido aburrido\\nTú que eres fogata y él tan frío\\nDice tu amiguita que es celoso no quiere que sea tu amigo\\nSospecha que soy un pirata y robaré su flor\\n\\nNo te asombres si una noche\\n\")"
   ]
  },
  {
   "cell_type": "code",
   "execution_count": 13,
   "id": "97605ce2-35ce-4308-a42c-8962fd817798",
   "metadata": {},
   "outputs": [
    {
     "data": {
      "text/plain": [
       "AnalyzerOutput(output=NEG, probas={NEG: 0.613, NEU: 0.355, POS: 0.033})"
      ]
     },
     "execution_count": 13,
     "metadata": {},
     "output_type": "execute_result"
    }
   ],
   "source": [
    "analyzer.predict(\"informado que tu novio es un insípido aburrido\\nTú que eres fogata y él tan frío\\nDice tu amiguita que es celoso no quiere que sea tu amigo\\nSospecha que soy un pirata y robaré su flor\\n\\nNo te asombres si una noche\\n\")"
   ]
  },
  {
   "cell_type": "markdown",
   "id": "e3708f0c-2afe-4201-901d-4e51452149d4",
   "metadata": {},
   "source": [
    "# Trying to increase the negative value"
   ]
  },
  {
   "cell_type": "markdown",
   "id": "f885335e-8765-4362-9cbd-d46fd2bce412",
   "metadata": {},
   "source": [
    "### Since the song is clearly negative those trail are made - all did not give considerable increase in negative results\n",
    "1. split each line add fed it to the sentiment analyser\n",
    "2. group each 2 line - since in most songs each 2 lines describe scenario\n",
    "3. group block of text"
   ]
  },
  {
   "cell_type": "markdown",
   "id": "9a17cd87-f930-4be1-8166-bc94587d41c2",
   "metadata": {},
   "source": [
    "# llama 3.1 models\n",
    "All models 6/70/405 were fed some examples, like:\n",
    "\n",
    "```\n",
    "write sentiment analysis of the following line from a song. Also write in sentiment (negative,positive,neutral) in percentage:\n",
    "\n",
    "The line:\n",
    "\"Si tú te casas El día de tu boda le digo a tu esposo con risas Que solo es prestada la mujer que ama Porque sigues siendo mía\"\n",
    "\n",
    "```\n",
    "Translation:\n",
    "```\n",
    "If you get married On your wedding day I tell your husband with laughter That only the woman he loves is borrowed Because you are still mine\n",
    "```\n",
    "\n",
    "None gave reasonable explanation.\n",
    "\n",
    "For example the 70b model wrote:\n",
    "```\n",
    "Positive: 20% - The lyrics also have a playful tone, with the speaker saying \"con risas\" (with laughter), which suggests a lighthearted and humorous approach.\n",
    "```\n",
    "which is clearly out of context"
   ]
  },
  {
   "cell_type": "code",
   "execution_count": null,
   "id": "751db11b-77ab-416a-890b-e9873791496f",
   "metadata": {},
   "outputs": [],
   "source": []
  },
  {
   "cell_type": "code",
   "execution_count": null,
   "id": "0724e8a9-fbe1-4404-84b6-3cbf29270fdb",
   "metadata": {},
   "outputs": [],
   "source": []
  }
 ],
 "metadata": {
  "kernelspec": {
   "display_name": "Python 3 (ipykernel)",
   "language": "python",
   "name": "python3"
  },
  "language_info": {
   "codemirror_mode": {
    "name": "ipython",
    "version": 3
   },
   "file_extension": ".py",
   "mimetype": "text/x-python",
   "name": "python",
   "nbconvert_exporter": "python",
   "pygments_lexer": "ipython3",
   "version": "3.12.3"
  }
 },
 "nbformat": 4,
 "nbformat_minor": 5
}
