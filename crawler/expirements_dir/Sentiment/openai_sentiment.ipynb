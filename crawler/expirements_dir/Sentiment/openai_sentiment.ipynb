{
 "cells": [
  {
   "cell_type": "code",
   "execution_count": 1,
   "id": "cad69c27-707d-4868-8ba7-bba7f62d06f5",
   "metadata": {},
   "outputs": [],
   "source": [
    "import re\n",
    "import os\n",
    "import sys\n",
    "import json\n",
    "import openai\n",
    "import ast\n",
    "\n",
    "import warnings\n",
    "import numpy as np\n",
    "import pandas as pd\n",
    "from openai import OpenAI\n",
    "import logging\n",
    "\n",
    "parent_dir = os.path.abspath(os.path.join(os.getcwd(), os.pardir))\n",
    "sys.path.append(parent_dir)\n",
    "sys.path.append('/home/or/dev/latin_music_statistics/crawler/data_dir')\n",
    "sys.path.append(os.path.abspath(os.path.join(parent_dir, 'statistics_dir')))\n",
    "\n",
    "from config import OPENAI_MODEL, THEME_PROMPT, SENTIMENT_PROMPT, BATCH_THEME_JSOL_FILE, BATCH_SENTIMENT_JSOL_FILE, DATA_JSOL_DIR, FINAL_DATA_FILE\n",
    "df = pd.read_csv('/home/or/dev/latin_music_statistics/crawler/data_dir/final_data.csv', encoding='utf-8')"
   ]
  },
  {
   "cell_type": "code",
   "execution_count": 2,
   "id": "7bfed112-8cab-4115-bab7-03a23bb02738",
   "metadata": {},
   "outputs": [],
   "source": [
    "OPENAI_KEY = os.getenv('OPENAI_KEY')                                                                                                                                          \n",
    "client = OpenAI(api_key = OPENAI_KEY)\n",
    "SENTIMENT_PROMPT='analyis the overall sentiment in terms of:\\nneural, positive, negative\\nfor the following song:\\n\\n{song}\\n\\nwrite only in json format with the appropriate decimal percentage. Make sure the sentiment percentage sum to 1.'\n"
   ]
  },
  {
   "cell_type": "code",
   "execution_count": 38,
   "id": "53eceff3-d102-499d-aad3-c93efa35cd97",
   "metadata": {},
   "outputs": [],
   "source": [
    "from config import OPENAI_MODEL, SENTIMENT_PROMPT, FINAL_DATA_FILE\n",
    "\n",
    "def prepare_chatgpt_msg(curr_text, prev_text, chatgpt_messages):\n",
    "    chatgpt_messages.append({\"role\": \"user\", \"content\": prev_text})\n",
    "    chatgpt_messages.append({\"role\": \"user\", \"content\": curr_text})\n",
    "    return chatgpt_messages\n",
    "\n",
    "def chatgpt_request_extraction(msgs, model_name, client):\n",
    "    response = client.chat.completions.create(model=model_name, messages=msgs)\n",
    "    return response\n",
    "\n",
    "def extract_valid_dict(response_text, model_name, client, logger, max_attempts=5):\n",
    "    attempt = 0\n",
    "    chatgpt_messages = []\n",
    "\n",
    "    while attempt < max_attempts:\n",
    "        try:\n",
    "            extracted_dict = ast.literal_eval(response_text)\n",
    "            if isinstance(extracted_dict, dict):\n",
    "                return extracted_dict\n",
    "                \n",
    "        except (SyntaxError, ValueError):\n",
    "            logger.info(f\"Attempt: {attempt + 1} to extract the Python dictionary from the text\")\n",
    "            attempt += 1\n",
    "            prev_content = f\"The previous {attempt + 1} attempt to extract of the valid Python dictionary from the text failed.\\n\" \\\n",
    "                            f\"The previous result was: {response_text}\\n\" \\\n",
    "                            \"Extract valid Python dictionary with no additional text, formatting, or code. The output should look exactly like this: {\\\"...\\\"}.\\n\" \\\n",
    "                            \"Provide only the dictionary, nothing else.\\nMake sure that one of the sentiments has the highest value\\n\" \\\n",
    "                            \"Make sure the sentiment percentage sum to 1.\"\n",
    "            \n",
    "            chatgpt_messages = prepare_chatgpt_msg(response_text, prev_content, chatgpt_messages)\n",
    "            extraction_response = chatgpt_request_extraction(chatgpt_messages, model_name, client)\n",
    "            response_text = extraction_response.choices[0].message.content\n",
    "    \n",
    "    raise ValueError(\"Failed to extract a valid Python list after multiple attempts.\")\n",
    "\n",
    "def get_dominant_sentiment(sentiment_dict_input):\n",
    "    try:\n",
    "        sentiment_dict = eval(sentiment_dict_input)\n",
    "    except TypeError as e:\n",
    "        sentiment_dict = sentiment_dict_input\n",
    "\n",
    "   # print(sentiment_dict)\n",
    "    if sentiment_dict['positive'] == sentiment_dict['negative']:\n",
    "        #print(sentiment_dict_input)\n",
    "        print('1')\n",
    "        dominant_sentiment = 'neutral'\n",
    "    else:\n",
    "        dominant_sentiment = max(sentiment_dict, key=sentiment_dict.get)\n",
    "    return dominant_sentiment\n",
    "\n",
    "\n",
    "def calc_sentiment(df, dict_sentiment_col, select_sentiment_col):\n",
    "    df[select_sentiment_col] = df[dict_sentiment_col].apply(get_dominant_sentiment)\n",
    "\n",
    "\n",
    "def find_sentiment(df, song_lyrics_col, tgt_col, client, logger, model_name, sentiment_prompt):\n",
    "    for ii, (idx, row) in enumerate(df.iterrows()):\n",
    "        prompt = sentiment_prompt.format(song=row[song_lyrics_col])\n",
    "        chatgpt_msg_request = prepare_chatgpt_msg(prompt, '', [])\n",
    "        response = chatgpt_request_extraction(chatgpt_msg_request, model_name, client)\n",
    "        response_text = response.choices[0].message.content\n",
    "        \n",
    "        extracted_dict = extract_valid_dict(response_text, model_name, client, logger, max_attempts=5)\n",
    "        df.loc[idx, tgt_col] = str(extracted_dict)\n",
    "\n",
    "    calc_sentiment(df, 'sentiment', 'selected_sentiment')\n",
    "\n",
    "def openai_sentiment_finder(df, song_lyrics_col='lyrics', tgt_col='sentiment'):\n",
    "    model_name = OPENAI_MODEL\n",
    "    sentiment_prompt = SENTIMENT_PROMPT\n",
    "    OPENAI_KEY = os.getenv('OPENAI_KEY')                                                                                                                                          \n",
    "    client = OpenAI(api_key = OPENAI_KEY)                                                                                                                                   \n",
    "\n",
    "    # Establish logging\n",
    "    logging.basicConfig(\n",
    "        level=logging.INFO,\n",
    "        format='%(asctime)s - %(name)s - %(levelname)s - %(message)s',\n",
    "        handlers=[\n",
    "            logging.StreamHandler()          # Log messages to the console (stdout)\n",
    "        ]\n",
    "    )\n",
    "    logger = logging.getLogger(__name__)\n",
    "\n",
    "    find_sentiment(df, song_lyrics_col, tgt_col, client, logger, OPENAI_MODEL, SENTIMENT_PROMPT)"
   ]
  },
  {
   "cell_type": "code",
   "execution_count": 50,
   "id": "5631fc99-8a62-4e6c-817b-aa3125bccd56",
   "metadata": {
    "scrolled": true
   },
   "outputs": [
    {
     "name": "stdout",
     "output_type": "stream",
     "text": [
      "1\n"
     ]
    },
    {
     "name": "stderr",
     "output_type": "stream",
     "text": [
      "2024-09-21 19:42:17,075 - httpx - INFO - HTTP Request: POST https://api.openai.com/v1/chat/completions \"HTTP/1.1 200 OK\"\n",
      "2024-09-21 19:42:17,081 - __main__ - INFO - Attempt: 1 to extract the Python dictionary from the text\n",
      "2024-09-21 19:42:17,859 - httpx - INFO - HTTP Request: POST https://api.openai.com/v1/chat/completions \"HTTP/1.1 200 OK\"\n"
     ]
    },
    {
     "name": "stdout",
     "output_type": "stream",
     "text": [
      "{'positive': 0.6, 'neutral': 0.3, 'negative': 0.1}\n",
      "39\n"
     ]
    },
    {
     "name": "stderr",
     "output_type": "stream",
     "text": [
      "2024-09-21 19:42:18,627 - httpx - INFO - HTTP Request: POST https://api.openai.com/v1/chat/completions \"HTTP/1.1 200 OK\"\n",
      "2024-09-21 19:42:18,638 - __main__ - INFO - Attempt: 1 to extract the Python dictionary from the text\n",
      "2024-09-21 19:42:19,481 - httpx - INFO - HTTP Request: POST https://api.openai.com/v1/chat/completions \"HTTP/1.1 200 OK\"\n"
     ]
    },
    {
     "name": "stdout",
     "output_type": "stream",
     "text": [
      "{'neutral': 0.2, 'positive': 0.3, 'negative': 0.5}\n",
      "108\n"
     ]
    },
    {
     "name": "stderr",
     "output_type": "stream",
     "text": [
      "2024-09-21 19:42:20,702 - httpx - INFO - HTTP Request: POST https://api.openai.com/v1/chat/completions \"HTTP/1.1 200 OK\"\n",
      "2024-09-21 19:42:20,713 - __main__ - INFO - Attempt: 1 to extract the Python dictionary from the text\n",
      "2024-09-21 19:42:21,699 - httpx - INFO - HTTP Request: POST https://api.openai.com/v1/chat/completions \"HTTP/1.1 200 OK\"\n"
     ]
    },
    {
     "name": "stdout",
     "output_type": "stream",
     "text": [
      "{'neutral': 0.1, 'positive': 0.2, 'negative': 0.7}\n",
      "123\n"
     ]
    },
    {
     "name": "stderr",
     "output_type": "stream",
     "text": [
      "2024-09-21 19:42:22,686 - httpx - INFO - HTTP Request: POST https://api.openai.com/v1/chat/completions \"HTTP/1.1 200 OK\"\n",
      "2024-09-21 19:42:22,697 - __main__ - INFO - Attempt: 1 to extract the Python dictionary from the text\n",
      "2024-09-21 19:42:23,421 - httpx - INFO - HTTP Request: POST https://api.openai.com/v1/chat/completions \"HTTP/1.1 200 OK\"\n"
     ]
    },
    {
     "name": "stdout",
     "output_type": "stream",
     "text": [
      "{'positive': 0.2, 'neutral': 0.6, 'negative': 0.2}\n",
      "152\n"
     ]
    },
    {
     "name": "stderr",
     "output_type": "stream",
     "text": [
      "2024-09-21 19:42:24,274 - httpx - INFO - HTTP Request: POST https://api.openai.com/v1/chat/completions \"HTTP/1.1 200 OK\"\n",
      "2024-09-21 19:42:24,285 - __main__ - INFO - Attempt: 1 to extract the Python dictionary from the text\n",
      "2024-09-21 19:42:25,311 - httpx - INFO - HTTP Request: POST https://api.openai.com/v1/chat/completions \"HTTP/1.1 200 OK\"\n"
     ]
    },
    {
     "name": "stdout",
     "output_type": "stream",
     "text": [
      "{'neutral': 0.1, 'positive': 0.7, 'negative': 0.2}\n",
      "169\n"
     ]
    },
    {
     "name": "stderr",
     "output_type": "stream",
     "text": [
      "2024-09-21 19:42:26,100 - httpx - INFO - HTTP Request: POST https://api.openai.com/v1/chat/completions \"HTTP/1.1 200 OK\"\n",
      "2024-09-21 19:42:26,114 - __main__ - INFO - Attempt: 1 to extract the Python dictionary from the text\n",
      "2024-09-21 19:42:27,218 - httpx - INFO - HTTP Request: POST https://api.openai.com/v1/chat/completions \"HTTP/1.1 200 OK\"\n"
     ]
    },
    {
     "name": "stdout",
     "output_type": "stream",
     "text": [
      "{'neutral': 0.35, 'positive': 0.25, 'negative': 0.4}\n",
      "170\n"
     ]
    },
    {
     "name": "stderr",
     "output_type": "stream",
     "text": [
      "2024-09-21 19:42:28,227 - httpx - INFO - HTTP Request: POST https://api.openai.com/v1/chat/completions \"HTTP/1.1 200 OK\"\n",
      "2024-09-21 19:42:28,233 - __main__ - INFO - Attempt: 1 to extract the Python dictionary from the text\n",
      "2024-09-21 19:42:28,981 - httpx - INFO - HTTP Request: POST https://api.openai.com/v1/chat/completions \"HTTP/1.1 200 OK\"\n"
     ]
    },
    {
     "name": "stdout",
     "output_type": "stream",
     "text": [
      "{'neutral': 0.1, 'positive': 0.2, 'negative': 0.7}\n",
      "175\n"
     ]
    },
    {
     "name": "stderr",
     "output_type": "stream",
     "text": [
      "2024-09-21 19:42:30,223 - httpx - INFO - HTTP Request: POST https://api.openai.com/v1/chat/completions \"HTTP/1.1 200 OK\"\n",
      "2024-09-21 19:42:30,235 - __main__ - INFO - Attempt: 1 to extract the Python dictionary from the text\n",
      "2024-09-21 19:42:30,904 - httpx - INFO - HTTP Request: POST https://api.openai.com/v1/chat/completions \"HTTP/1.1 200 OK\"\n"
     ]
    },
    {
     "name": "stdout",
     "output_type": "stream",
     "text": [
      "{'neural': 0.3, 'positive': 0.2, 'negative': 0.5}\n",
      "184\n"
     ]
    },
    {
     "name": "stderr",
     "output_type": "stream",
     "text": [
      "2024-09-21 19:42:31,769 - httpx - INFO - HTTP Request: POST https://api.openai.com/v1/chat/completions \"HTTP/1.1 200 OK\"\n",
      "2024-09-21 19:42:31,780 - __main__ - INFO - Attempt: 1 to extract the Python dictionary from the text\n",
      "2024-09-21 19:42:33,050 - httpx - INFO - HTTP Request: POST https://api.openai.com/v1/chat/completions \"HTTP/1.1 200 OK\"\n"
     ]
    },
    {
     "name": "stdout",
     "output_type": "stream",
     "text": [
      "{'neutral': 0.1, 'positive': 0.2, 'negative': 0.7}\n",
      "201\n"
     ]
    },
    {
     "name": "stderr",
     "output_type": "stream",
     "text": [
      "2024-09-21 19:42:33,788 - httpx - INFO - HTTP Request: POST https://api.openai.com/v1/chat/completions \"HTTP/1.1 200 OK\"\n",
      "2024-09-21 19:42:33,791 - __main__ - INFO - Attempt: 1 to extract the Python dictionary from the text\n",
      "2024-09-21 19:42:34,575 - httpx - INFO - HTTP Request: POST https://api.openai.com/v1/chat/completions \"HTTP/1.1 200 OK\"\n"
     ]
    },
    {
     "name": "stdout",
     "output_type": "stream",
     "text": [
      "{'neutral': 0.2, 'positive': 0.4, 'negative': 0.4}\n",
      "232\n"
     ]
    },
    {
     "name": "stderr",
     "output_type": "stream",
     "text": [
      "2024-09-21 19:42:35,348 - httpx - INFO - HTTP Request: POST https://api.openai.com/v1/chat/completions \"HTTP/1.1 200 OK\"\n",
      "2024-09-21 19:42:35,358 - __main__ - INFO - Attempt: 1 to extract the Python dictionary from the text\n",
      "2024-09-21 19:42:36,420 - httpx - INFO - HTTP Request: POST https://api.openai.com/v1/chat/completions \"HTTP/1.1 200 OK\"\n"
     ]
    },
    {
     "name": "stdout",
     "output_type": "stream",
     "text": [
      "{'neutral': 0.6, 'positive': 0.2, 'negative': 0.2}\n",
      "254\n"
     ]
    },
    {
     "name": "stderr",
     "output_type": "stream",
     "text": [
      "2024-09-21 19:42:37,880 - httpx - INFO - HTTP Request: POST https://api.openai.com/v1/chat/completions \"HTTP/1.1 200 OK\"\n",
      "2024-09-21 19:42:37,884 - __main__ - INFO - Attempt: 1 to extract the Python dictionary from the text\n",
      "2024-09-21 19:42:38,863 - httpx - INFO - HTTP Request: POST https://api.openai.com/v1/chat/completions \"HTTP/1.1 200 OK\"\n"
     ]
    },
    {
     "name": "stdout",
     "output_type": "stream",
     "text": [
      "{'neutral': 0.1, 'positive': 0.8, 'negative': 0.1}\n",
      "257\n"
     ]
    },
    {
     "name": "stderr",
     "output_type": "stream",
     "text": [
      "2024-09-21 19:42:39,561 - httpx - INFO - HTTP Request: POST https://api.openai.com/v1/chat/completions \"HTTP/1.1 200 OK\"\n",
      "2024-09-21 19:42:39,567 - __main__ - INFO - Attempt: 1 to extract the Python dictionary from the text\n",
      "2024-09-21 19:42:40,537 - httpx - INFO - HTTP Request: POST https://api.openai.com/v1/chat/completions \"HTTP/1.1 200 OK\"\n"
     ]
    },
    {
     "name": "stdout",
     "output_type": "stream",
     "text": [
      "{'neutral': 0.4, 'positive': 0.5, 'negative': 0.1}\n",
      "319\n"
     ]
    },
    {
     "name": "stderr",
     "output_type": "stream",
     "text": [
      "2024-09-21 19:42:41,769 - httpx - INFO - HTTP Request: POST https://api.openai.com/v1/chat/completions \"HTTP/1.1 200 OK\"\n",
      "2024-09-21 19:42:41,781 - __main__ - INFO - Attempt: 1 to extract the Python dictionary from the text\n",
      "2024-09-21 19:42:42,524 - httpx - INFO - HTTP Request: POST https://api.openai.com/v1/chat/completions \"HTTP/1.1 200 OK\"\n"
     ]
    },
    {
     "name": "stdout",
     "output_type": "stream",
     "text": [
      "{'neutral': 0.1, 'positive': 0.3, 'negative': 0.6}\n",
      "320\n"
     ]
    },
    {
     "name": "stderr",
     "output_type": "stream",
     "text": [
      "2024-09-21 19:42:43,695 - httpx - INFO - HTTP Request: POST https://api.openai.com/v1/chat/completions \"HTTP/1.1 200 OK\"\n",
      "2024-09-21 19:42:43,709 - __main__ - INFO - Attempt: 1 to extract the Python dictionary from the text\n",
      "2024-09-21 19:42:44,484 - httpx - INFO - HTTP Request: POST https://api.openai.com/v1/chat/completions \"HTTP/1.1 200 OK\"\n"
     ]
    },
    {
     "name": "stdout",
     "output_type": "stream",
     "text": [
      "{'neutral': 0.4, 'positive': 0.3, 'negative': 0.3}\n",
      "322\n"
     ]
    },
    {
     "name": "stderr",
     "output_type": "stream",
     "text": [
      "2024-09-21 19:42:45,187 - httpx - INFO - HTTP Request: POST https://api.openai.com/v1/chat/completions \"HTTP/1.1 200 OK\"\n",
      "2024-09-21 19:42:45,189 - __main__ - INFO - Attempt: 1 to extract the Python dictionary from the text\n",
      "2024-09-21 19:42:46,413 - httpx - INFO - HTTP Request: POST https://api.openai.com/v1/chat/completions \"HTTP/1.1 200 OK\"\n"
     ]
    },
    {
     "name": "stdout",
     "output_type": "stream",
     "text": [
      "{'neutral': 0.4, 'positive': 0.3, 'negative': 0.3}\n",
      "323\n"
     ]
    },
    {
     "name": "stderr",
     "output_type": "stream",
     "text": [
      "2024-09-21 19:42:47,891 - httpx - INFO - HTTP Request: POST https://api.openai.com/v1/chat/completions \"HTTP/1.1 200 OK\"\n",
      "2024-09-21 19:42:47,896 - __main__ - INFO - Attempt: 1 to extract the Python dictionary from the text\n",
      "2024-09-21 19:42:48,552 - httpx - INFO - HTTP Request: POST https://api.openai.com/v1/chat/completions \"HTTP/1.1 200 OK\"\n"
     ]
    },
    {
     "name": "stdout",
     "output_type": "stream",
     "text": [
      "{'neutral': 0.6, 'positive': 0.2, 'negative': 0.2}\n",
      "326\n"
     ]
    },
    {
     "name": "stderr",
     "output_type": "stream",
     "text": [
      "2024-09-21 19:42:49,807 - httpx - INFO - HTTP Request: POST https://api.openai.com/v1/chat/completions \"HTTP/1.1 200 OK\"\n",
      "2024-09-21 19:42:49,817 - __main__ - INFO - Attempt: 1 to extract the Python dictionary from the text\n",
      "2024-09-21 19:42:50,566 - httpx - INFO - HTTP Request: POST https://api.openai.com/v1/chat/completions \"HTTP/1.1 200 OK\"\n"
     ]
    },
    {
     "name": "stdout",
     "output_type": "stream",
     "text": [
      "{'positive': 0.2, 'neutral': 0.6, 'negative': 0.2}\n",
      "327\n"
     ]
    },
    {
     "name": "stderr",
     "output_type": "stream",
     "text": [
      "2024-09-21 19:42:51,455 - httpx - INFO - HTTP Request: POST https://api.openai.com/v1/chat/completions \"HTTP/1.1 200 OK\"\n",
      "2024-09-21 19:42:51,462 - __main__ - INFO - Attempt: 1 to extract the Python dictionary from the text\n",
      "2024-09-21 19:42:52,237 - httpx - INFO - HTTP Request: POST https://api.openai.com/v1/chat/completions \"HTTP/1.1 200 OK\"\n"
     ]
    },
    {
     "name": "stdout",
     "output_type": "stream",
     "text": [
      "{'neutral': 0.3, 'positive': 0.3, 'negative': 0.4}\n",
      "331\n"
     ]
    },
    {
     "name": "stderr",
     "output_type": "stream",
     "text": [
      "2024-09-21 19:42:53,015 - httpx - INFO - HTTP Request: POST https://api.openai.com/v1/chat/completions \"HTTP/1.1 200 OK\"\n",
      "2024-09-21 19:42:53,020 - __main__ - INFO - Attempt: 1 to extract the Python dictionary from the text\n",
      "2024-09-21 19:42:53,608 - httpx - INFO - HTTP Request: POST https://api.openai.com/v1/chat/completions \"HTTP/1.1 200 OK\"\n"
     ]
    },
    {
     "name": "stdout",
     "output_type": "stream",
     "text": [
      "{'neutral': 0.3, 'positive': 0.4, 'negative': 0.3}\n",
      "343\n"
     ]
    },
    {
     "name": "stderr",
     "output_type": "stream",
     "text": [
      "2024-09-21 19:42:54,428 - httpx - INFO - HTTP Request: POST https://api.openai.com/v1/chat/completions \"HTTP/1.1 200 OK\"\n",
      "2024-09-21 19:42:54,435 - __main__ - INFO - Attempt: 1 to extract the Python dictionary from the text\n",
      "2024-09-21 19:42:55,537 - httpx - INFO - HTTP Request: POST https://api.openai.com/v1/chat/completions \"HTTP/1.1 200 OK\"\n"
     ]
    },
    {
     "name": "stdout",
     "output_type": "stream",
     "text": [
      "{'neutral': 0.2, 'positive': 0.15, 'negative': 0.65}\n",
      "348\n"
     ]
    },
    {
     "name": "stderr",
     "output_type": "stream",
     "text": [
      "2024-09-21 19:42:56,699 - httpx - INFO - HTTP Request: POST https://api.openai.com/v1/chat/completions \"HTTP/1.1 200 OK\"\n",
      "2024-09-21 19:42:56,704 - __main__ - INFO - Attempt: 1 to extract the Python dictionary from the text\n",
      "2024-09-21 19:42:57,305 - httpx - INFO - HTTP Request: POST https://api.openai.com/v1/chat/completions \"HTTP/1.1 200 OK\"\n"
     ]
    },
    {
     "name": "stdout",
     "output_type": "stream",
     "text": [
      "{'neutral': 0.2, 'positive': 0.6, 'negative': 0.2}\n",
      "362\n"
     ]
    },
    {
     "name": "stderr",
     "output_type": "stream",
     "text": [
      "2024-09-21 19:42:58,421 - httpx - INFO - HTTP Request: POST https://api.openai.com/v1/chat/completions \"HTTP/1.1 200 OK\"\n",
      "2024-09-21 19:42:58,427 - __main__ - INFO - Attempt: 1 to extract the Python dictionary from the text\n",
      "2024-09-21 19:42:59,061 - httpx - INFO - HTTP Request: POST https://api.openai.com/v1/chat/completions \"HTTP/1.1 200 OK\"\n"
     ]
    },
    {
     "name": "stdout",
     "output_type": "stream",
     "text": [
      "{'neutral': 0.65, 'positive': 0.15, 'negative': 0.2}\n",
      "363\n"
     ]
    },
    {
     "name": "stderr",
     "output_type": "stream",
     "text": [
      "2024-09-21 19:43:00,214 - httpx - INFO - HTTP Request: POST https://api.openai.com/v1/chat/completions \"HTTP/1.1 200 OK\"\n",
      "2024-09-21 19:43:00,218 - __main__ - INFO - Attempt: 1 to extract the Python dictionary from the text\n",
      "2024-09-21 19:43:01,283 - httpx - INFO - HTTP Request: POST https://api.openai.com/v1/chat/completions \"HTTP/1.1 200 OK\"\n"
     ]
    },
    {
     "name": "stdout",
     "output_type": "stream",
     "text": [
      "{'neutral': 0.4, 'positive': 0.4, 'negative': 0.2}\n",
      "368\n"
     ]
    },
    {
     "name": "stderr",
     "output_type": "stream",
     "text": [
      "2024-09-21 19:43:02,115 - httpx - INFO - HTTP Request: POST https://api.openai.com/v1/chat/completions \"HTTP/1.1 200 OK\"\n",
      "2024-09-21 19:43:02,129 - __main__ - INFO - Attempt: 1 to extract the Python dictionary from the text\n",
      "2024-09-21 19:43:02,895 - httpx - INFO - HTTP Request: POST https://api.openai.com/v1/chat/completions \"HTTP/1.1 200 OK\"\n"
     ]
    },
    {
     "name": "stdout",
     "output_type": "stream",
     "text": [
      "{'neutral': 0.7, 'positive': 0.25, 'negative': 0.05}\n",
      "377\n"
     ]
    },
    {
     "name": "stderr",
     "output_type": "stream",
     "text": [
      "2024-09-21 19:43:04,077 - httpx - INFO - HTTP Request: POST https://api.openai.com/v1/chat/completions \"HTTP/1.1 200 OK\"\n",
      "2024-09-21 19:43:04,084 - __main__ - INFO - Attempt: 1 to extract the Python dictionary from the text\n",
      "2024-09-21 19:43:04,871 - httpx - INFO - HTTP Request: POST https://api.openai.com/v1/chat/completions \"HTTP/1.1 200 OK\"\n"
     ]
    },
    {
     "name": "stdout",
     "output_type": "stream",
     "text": [
      "{'neutral': 0.6, 'positive': 0.3, 'negative': 0.1}\n",
      "391\n"
     ]
    },
    {
     "name": "stderr",
     "output_type": "stream",
     "text": [
      "2024-09-21 19:43:05,671 - httpx - INFO - HTTP Request: POST https://api.openai.com/v1/chat/completions \"HTTP/1.1 200 OK\"\n",
      "2024-09-21 19:43:05,675 - __main__ - INFO - Attempt: 1 to extract the Python dictionary from the text\n",
      "2024-09-21 19:43:06,443 - httpx - INFO - HTTP Request: POST https://api.openai.com/v1/chat/completions \"HTTP/1.1 200 OK\"\n"
     ]
    },
    {
     "name": "stdout",
     "output_type": "stream",
     "text": [
      "{'neutral': 0.1, 'positive': 0.2, 'negative': 0.7}\n",
      "411\n"
     ]
    },
    {
     "name": "stderr",
     "output_type": "stream",
     "text": [
      "2024-09-21 19:43:07,330 - httpx - INFO - HTTP Request: POST https://api.openai.com/v1/chat/completions \"HTTP/1.1 200 OK\"\n",
      "2024-09-21 19:43:07,335 - __main__ - INFO - Attempt: 1 to extract the Python dictionary from the text\n",
      "2024-09-21 19:43:08,410 - httpx - INFO - HTTP Request: POST https://api.openai.com/v1/chat/completions \"HTTP/1.1 200 OK\"\n"
     ]
    },
    {
     "name": "stdout",
     "output_type": "stream",
     "text": [
      "{'neutral': 0.15, 'positive': 0.55, 'negative': 0.3}\n",
      "440\n"
     ]
    },
    {
     "name": "stderr",
     "output_type": "stream",
     "text": [
      "2024-09-21 19:43:09,623 - httpx - INFO - HTTP Request: POST https://api.openai.com/v1/chat/completions \"HTTP/1.1 200 OK\"\n",
      "2024-09-21 19:43:09,629 - __main__ - INFO - Attempt: 1 to extract the Python dictionary from the text\n",
      "2024-09-21 19:43:10,336 - httpx - INFO - HTTP Request: POST https://api.openai.com/v1/chat/completions \"HTTP/1.1 200 OK\"\n"
     ]
    },
    {
     "name": "stdout",
     "output_type": "stream",
     "text": [
      "{'neutral': 0.25, 'positive': 0.35, 'negative': 0.4}\n",
      "449\n"
     ]
    },
    {
     "name": "stderr",
     "output_type": "stream",
     "text": [
      "2024-09-21 19:43:11,312 - httpx - INFO - HTTP Request: POST https://api.openai.com/v1/chat/completions \"HTTP/1.1 200 OK\"\n",
      "2024-09-21 19:43:11,322 - __main__ - INFO - Attempt: 1 to extract the Python dictionary from the text\n",
      "2024-09-21 19:43:12,014 - httpx - INFO - HTTP Request: POST https://api.openai.com/v1/chat/completions \"HTTP/1.1 200 OK\"\n"
     ]
    },
    {
     "name": "stdout",
     "output_type": "stream",
     "text": [
      "{'neutral': 0.4, 'positive': 0.45, 'negative': 0.15}\n",
      "459\n"
     ]
    },
    {
     "name": "stderr",
     "output_type": "stream",
     "text": [
      "2024-09-21 19:43:12,716 - httpx - INFO - HTTP Request: POST https://api.openai.com/v1/chat/completions \"HTTP/1.1 200 OK\"\n",
      "2024-09-21 19:43:12,727 - __main__ - INFO - Attempt: 1 to extract the Python dictionary from the text\n",
      "2024-09-21 19:43:13,380 - httpx - INFO - HTTP Request: POST https://api.openai.com/v1/chat/completions \"HTTP/1.1 200 OK\"\n"
     ]
    },
    {
     "name": "stdout",
     "output_type": "stream",
     "text": [
      "{'neutral': 0.2, 'positive': 0.3, 'negative': 0.5}\n",
      "468\n"
     ]
    },
    {
     "name": "stderr",
     "output_type": "stream",
     "text": [
      "2024-09-21 19:43:14,116 - httpx - INFO - HTTP Request: POST https://api.openai.com/v1/chat/completions \"HTTP/1.1 200 OK\"\n",
      "2024-09-21 19:43:14,127 - __main__ - INFO - Attempt: 1 to extract the Python dictionary from the text\n",
      "2024-09-21 19:43:15,007 - httpx - INFO - HTTP Request: POST https://api.openai.com/v1/chat/completions \"HTTP/1.1 200 OK\"\n"
     ]
    },
    {
     "name": "stdout",
     "output_type": "stream",
     "text": [
      "{'neutral': 0.5, 'positive': 0.3, 'negative': 0.2}\n",
      "478\n"
     ]
    },
    {
     "name": "stderr",
     "output_type": "stream",
     "text": [
      "2024-09-21 19:43:16,131 - httpx - INFO - HTTP Request: POST https://api.openai.com/v1/chat/completions \"HTTP/1.1 200 OK\"\n",
      "2024-09-21 19:43:16,135 - __main__ - INFO - Attempt: 1 to extract the Python dictionary from the text\n",
      "2024-09-21 19:43:17,010 - httpx - INFO - HTTP Request: POST https://api.openai.com/v1/chat/completions \"HTTP/1.1 200 OK\"\n"
     ]
    },
    {
     "name": "stdout",
     "output_type": "stream",
     "text": [
      "{'neutral': 0.6, 'positive': 0.35, 'negative': 0.05}\n",
      "490\n"
     ]
    },
    {
     "name": "stderr",
     "output_type": "stream",
     "text": [
      "2024-09-21 19:43:17,725 - httpx - INFO - HTTP Request: POST https://api.openai.com/v1/chat/completions \"HTTP/1.1 200 OK\"\n",
      "2024-09-21 19:43:17,730 - __main__ - INFO - Attempt: 1 to extract the Python dictionary from the text\n",
      "2024-09-21 19:43:18,595 - httpx - INFO - HTTP Request: POST https://api.openai.com/v1/chat/completions \"HTTP/1.1 200 OK\"\n"
     ]
    },
    {
     "name": "stdout",
     "output_type": "stream",
     "text": [
      "{'neutral': 0.7, 'positive': 0.1, 'negative': 0.2}\n",
      "536\n"
     ]
    },
    {
     "name": "stderr",
     "output_type": "stream",
     "text": [
      "2024-09-21 19:43:19,428 - httpx - INFO - HTTP Request: POST https://api.openai.com/v1/chat/completions \"HTTP/1.1 200 OK\"\n",
      "2024-09-21 19:43:19,438 - __main__ - INFO - Attempt: 1 to extract the Python dictionary from the text\n",
      "2024-09-21 19:43:20,572 - httpx - INFO - HTTP Request: POST https://api.openai.com/v1/chat/completions \"HTTP/1.1 200 OK\"\n"
     ]
    },
    {
     "name": "stdout",
     "output_type": "stream",
     "text": [
      "{'neutral': 0.2, 'positive': 0.35, 'negative': 0.45}\n",
      "552\n"
     ]
    },
    {
     "name": "stderr",
     "output_type": "stream",
     "text": [
      "2024-09-21 19:43:21,425 - httpx - INFO - HTTP Request: POST https://api.openai.com/v1/chat/completions \"HTTP/1.1 200 OK\"\n",
      "2024-09-21 19:43:21,435 - __main__ - INFO - Attempt: 1 to extract the Python dictionary from the text\n",
      "2024-09-21 19:43:22,248 - httpx - INFO - HTTP Request: POST https://api.openai.com/v1/chat/completions \"HTTP/1.1 200 OK\"\n"
     ]
    },
    {
     "name": "stdout",
     "output_type": "stream",
     "text": [
      "{'neutral': 0.65, 'positive': 0.25, 'negative': 0.1}\n",
      "590\n"
     ]
    },
    {
     "name": "stderr",
     "output_type": "stream",
     "text": [
      "2024-09-21 19:43:23,387 - httpx - INFO - HTTP Request: POST https://api.openai.com/v1/chat/completions \"HTTP/1.1 200 OK\"\n",
      "2024-09-21 19:43:23,390 - __main__ - INFO - Attempt: 1 to extract the Python dictionary from the text\n",
      "2024-09-21 19:43:24,445 - httpx - INFO - HTTP Request: POST https://api.openai.com/v1/chat/completions \"HTTP/1.1 200 OK\"\n"
     ]
    },
    {
     "name": "stdout",
     "output_type": "stream",
     "text": [
      "{'neutral': 0.15, 'positive': 0.55, 'negative': 0.3}\n",
      "597\n"
     ]
    },
    {
     "name": "stderr",
     "output_type": "stream",
     "text": [
      "2024-09-21 19:43:25,297 - httpx - INFO - HTTP Request: POST https://api.openai.com/v1/chat/completions \"HTTP/1.1 200 OK\"\n",
      "2024-09-21 19:43:25,303 - __main__ - INFO - Attempt: 1 to extract the Python dictionary from the text\n",
      "2024-09-21 19:43:28,473 - httpx - INFO - HTTP Request: POST https://api.openai.com/v1/chat/completions \"HTTP/1.1 200 OK\"\n"
     ]
    },
    {
     "name": "stdout",
     "output_type": "stream",
     "text": [
      "{'neutral': 0.4, 'positive': 0.4, 'negative': 0.2}\n",
      "613\n"
     ]
    },
    {
     "name": "stderr",
     "output_type": "stream",
     "text": [
      "2024-09-21 19:43:29,412 - httpx - INFO - HTTP Request: POST https://api.openai.com/v1/chat/completions \"HTTP/1.1 200 OK\"\n",
      "2024-09-21 19:43:29,422 - __main__ - INFO - Attempt: 1 to extract the Python dictionary from the text\n",
      "2024-09-21 19:43:30,175 - httpx - INFO - HTTP Request: POST https://api.openai.com/v1/chat/completions \"HTTP/1.1 200 OK\"\n"
     ]
    },
    {
     "name": "stdout",
     "output_type": "stream",
     "text": [
      "{'neutral': 0.3, 'positive': 0.4, 'negative': 0.3}\n",
      "618\n"
     ]
    },
    {
     "name": "stderr",
     "output_type": "stream",
     "text": [
      "2024-09-21 19:43:30,878 - httpx - INFO - HTTP Request: POST https://api.openai.com/v1/chat/completions \"HTTP/1.1 200 OK\"\n",
      "2024-09-21 19:43:30,886 - __main__ - INFO - Attempt: 1 to extract the Python dictionary from the text\n",
      "2024-09-21 19:43:31,818 - httpx - INFO - HTTP Request: POST https://api.openai.com/v1/chat/completions \"HTTP/1.1 200 OK\"\n"
     ]
    },
    {
     "name": "stdout",
     "output_type": "stream",
     "text": [
      "{'neutral': 0.1, 'positive': 0.7, 'negative': 0.2}\n",
      "670\n"
     ]
    },
    {
     "name": "stderr",
     "output_type": "stream",
     "text": [
      "2024-09-21 19:43:32,786 - httpx - INFO - HTTP Request: POST https://api.openai.com/v1/chat/completions \"HTTP/1.1 200 OK\"\n",
      "2024-09-21 19:43:32,800 - __main__ - INFO - Attempt: 1 to extract the Python dictionary from the text\n",
      "2024-09-21 19:43:33,536 - httpx - INFO - HTTP Request: POST https://api.openai.com/v1/chat/completions \"HTTP/1.1 200 OK\"\n"
     ]
    },
    {
     "name": "stdout",
     "output_type": "stream",
     "text": [
      "{'neutral': 0.35, 'positive': 0.25, 'negative': 0.4}\n",
      "684\n"
     ]
    },
    {
     "name": "stderr",
     "output_type": "stream",
     "text": [
      "2024-09-21 19:43:34,420 - httpx - INFO - HTTP Request: POST https://api.openai.com/v1/chat/completions \"HTTP/1.1 200 OK\"\n",
      "2024-09-21 19:43:34,431 - __main__ - INFO - Attempt: 1 to extract the Python dictionary from the text\n",
      "2024-09-21 19:43:35,232 - httpx - INFO - HTTP Request: POST https://api.openai.com/v1/chat/completions \"HTTP/1.1 200 OK\"\n"
     ]
    },
    {
     "name": "stdout",
     "output_type": "stream",
     "text": [
      "{'neutral': 0.4, 'positive': 0.1, 'negative': 0.5}\n",
      "697\n"
     ]
    },
    {
     "name": "stderr",
     "output_type": "stream",
     "text": [
      "2024-09-21 19:43:36,008 - httpx - INFO - HTTP Request: POST https://api.openai.com/v1/chat/completions \"HTTP/1.1 200 OK\"\n",
      "2024-09-21 19:43:36,013 - __main__ - INFO - Attempt: 1 to extract the Python dictionary from the text\n",
      "2024-09-21 19:43:37,106 - httpx - INFO - HTTP Request: POST https://api.openai.com/v1/chat/completions \"HTTP/1.1 200 OK\"\n"
     ]
    },
    {
     "name": "stdout",
     "output_type": "stream",
     "text": [
      "{'neutral': 0.5, 'positive': 0.3, 'negative': 0.2}\n",
      "700\n"
     ]
    },
    {
     "name": "stderr",
     "output_type": "stream",
     "text": [
      "2024-09-21 19:43:37,796 - httpx - INFO - HTTP Request: POST https://api.openai.com/v1/chat/completions \"HTTP/1.1 200 OK\"\n",
      "2024-09-21 19:43:37,801 - __main__ - INFO - Attempt: 1 to extract the Python dictionary from the text\n",
      "2024-09-21 19:43:38,579 - httpx - INFO - HTTP Request: POST https://api.openai.com/v1/chat/completions \"HTTP/1.1 200 OK\"\n"
     ]
    },
    {
     "name": "stdout",
     "output_type": "stream",
     "text": [
      "{'neutral': 0.2, 'positive': 0.5, 'negative': 0.3}\n",
      "712\n"
     ]
    },
    {
     "name": "stderr",
     "output_type": "stream",
     "text": [
      "2024-09-21 19:43:39,593 - httpx - INFO - HTTP Request: POST https://api.openai.com/v1/chat/completions \"HTTP/1.1 200 OK\"\n",
      "2024-09-21 19:43:39,597 - __main__ - INFO - Attempt: 1 to extract the Python dictionary from the text\n",
      "2024-09-21 19:43:40,298 - httpx - INFO - HTTP Request: POST https://api.openai.com/v1/chat/completions \"HTTP/1.1 200 OK\"\n"
     ]
    },
    {
     "name": "stdout",
     "output_type": "stream",
     "text": [
      "{'neutral': 0.1, 'positive': 0.45, 'negative': 0.45}\n",
      "714\n"
     ]
    },
    {
     "name": "stderr",
     "output_type": "stream",
     "text": [
      "2024-09-21 19:43:41,068 - httpx - INFO - HTTP Request: POST https://api.openai.com/v1/chat/completions \"HTTP/1.1 200 OK\"\n",
      "2024-09-21 19:43:41,072 - __main__ - INFO - Attempt: 1 to extract the Python dictionary from the text\n",
      "2024-09-21 19:43:41,819 - httpx - INFO - HTTP Request: POST https://api.openai.com/v1/chat/completions \"HTTP/1.1 200 OK\"\n"
     ]
    },
    {
     "name": "stdout",
     "output_type": "stream",
     "text": [
      "{'neutral': 0.65, 'positive': 0.15, 'negative': 0.2}\n",
      "715\n"
     ]
    },
    {
     "name": "stderr",
     "output_type": "stream",
     "text": [
      "2024-09-21 19:43:42,616 - httpx - INFO - HTTP Request: POST https://api.openai.com/v1/chat/completions \"HTTP/1.1 200 OK\"\n",
      "2024-09-21 19:43:42,624 - __main__ - INFO - Attempt: 1 to extract the Python dictionary from the text\n",
      "2024-09-21 19:43:43,303 - httpx - INFO - HTTP Request: POST https://api.openai.com/v1/chat/completions \"HTTP/1.1 200 OK\"\n"
     ]
    },
    {
     "name": "stdout",
     "output_type": "stream",
     "text": [
      "{'positive': 0.2, 'negative': 0.4, 'neutral': 0.4}\n",
      "717\n"
     ]
    },
    {
     "name": "stderr",
     "output_type": "stream",
     "text": [
      "2024-09-21 19:43:44,440 - httpx - INFO - HTTP Request: POST https://api.openai.com/v1/chat/completions \"HTTP/1.1 200 OK\"\n",
      "2024-09-21 19:43:44,444 - __main__ - INFO - Attempt: 1 to extract the Python dictionary from the text\n",
      "2024-09-21 19:43:45,104 - httpx - INFO - HTTP Request: POST https://api.openai.com/v1/chat/completions \"HTTP/1.1 200 OK\"\n"
     ]
    },
    {
     "name": "stdout",
     "output_type": "stream",
     "text": [
      "{'neutral': 0.2, 'positive': 0.6, 'negative': 0.2}\n",
      "736\n"
     ]
    },
    {
     "name": "stderr",
     "output_type": "stream",
     "text": [
      "2024-09-21 19:43:45,863 - httpx - INFO - HTTP Request: POST https://api.openai.com/v1/chat/completions \"HTTP/1.1 200 OK\"\n",
      "2024-09-21 19:43:45,868 - __main__ - INFO - Attempt: 1 to extract the Python dictionary from the text\n",
      "2024-09-21 19:43:46,947 - httpx - INFO - HTTP Request: POST https://api.openai.com/v1/chat/completions \"HTTP/1.1 200 OK\"\n"
     ]
    },
    {
     "name": "stdout",
     "output_type": "stream",
     "text": [
      "{'neutral': 0.15, 'positive': 0.35, 'negative': 0.5}\n",
      "752\n"
     ]
    },
    {
     "name": "stderr",
     "output_type": "stream",
     "text": [
      "2024-09-21 19:43:47,956 - httpx - INFO - HTTP Request: POST https://api.openai.com/v1/chat/completions \"HTTP/1.1 200 OK\"\n",
      "2024-09-21 19:43:47,957 - __main__ - INFO - Attempt: 1 to extract the Python dictionary from the text\n",
      "2024-09-21 19:43:48,739 - httpx - INFO - HTTP Request: POST https://api.openai.com/v1/chat/completions \"HTTP/1.1 200 OK\"\n"
     ]
    },
    {
     "name": "stdout",
     "output_type": "stream",
     "text": [
      "{'neutral': 0.6, 'positive': 0.3, 'negative': 0.1}\n",
      "785\n"
     ]
    },
    {
     "name": "stderr",
     "output_type": "stream",
     "text": [
      "2024-09-21 19:43:49,875 - httpx - INFO - HTTP Request: POST https://api.openai.com/v1/chat/completions \"HTTP/1.1 200 OK\"\n",
      "2024-09-21 19:43:49,887 - __main__ - INFO - Attempt: 1 to extract the Python dictionary from the text\n",
      "2024-09-21 19:43:50,686 - httpx - INFO - HTTP Request: POST https://api.openai.com/v1/chat/completions \"HTTP/1.1 200 OK\"\n"
     ]
    },
    {
     "name": "stdout",
     "output_type": "stream",
     "text": [
      "{'neutral': 0.4, 'positive': 0.25, 'negative': 0.35}\n",
      "789\n"
     ]
    },
    {
     "name": "stderr",
     "output_type": "stream",
     "text": [
      "2024-09-21 19:43:51,944 - httpx - INFO - HTTP Request: POST https://api.openai.com/v1/chat/completions \"HTTP/1.1 200 OK\"\n",
      "2024-09-21 19:43:51,946 - __main__ - INFO - Attempt: 1 to extract the Python dictionary from the text\n",
      "2024-09-21 19:43:53,048 - httpx - INFO - HTTP Request: POST https://api.openai.com/v1/chat/completions \"HTTP/1.1 200 OK\"\n"
     ]
    },
    {
     "name": "stdout",
     "output_type": "stream",
     "text": [
      "{'neutral': 0.5, 'positive': 0.25, 'negative': 0.25}\n",
      "795\n"
     ]
    },
    {
     "name": "stderr",
     "output_type": "stream",
     "text": [
      "2024-09-21 19:43:54,275 - httpx - INFO - HTTP Request: POST https://api.openai.com/v1/chat/completions \"HTTP/1.1 200 OK\"\n",
      "2024-09-21 19:43:54,287 - __main__ - INFO - Attempt: 1 to extract the Python dictionary from the text\n",
      "2024-09-21 19:43:55,004 - httpx - INFO - HTTP Request: POST https://api.openai.com/v1/chat/completions \"HTTP/1.1 200 OK\"\n"
     ]
    },
    {
     "name": "stdout",
     "output_type": "stream",
     "text": [
      "{'neutral': 0.2, 'positive': 0.3, 'negative': 0.5}\n",
      "803\n"
     ]
    },
    {
     "name": "stderr",
     "output_type": "stream",
     "text": [
      "2024-09-21 19:43:55,835 - httpx - INFO - HTTP Request: POST https://api.openai.com/v1/chat/completions \"HTTP/1.1 200 OK\"\n",
      "2024-09-21 19:43:55,837 - __main__ - INFO - Attempt: 1 to extract the Python dictionary from the text\n",
      "2024-09-21 19:43:56,697 - httpx - INFO - HTTP Request: POST https://api.openai.com/v1/chat/completions \"HTTP/1.1 200 OK\"\n"
     ]
    },
    {
     "name": "stdout",
     "output_type": "stream",
     "text": [
      "{'neutral': 0.5, 'positive': 0.3, 'negative': 0.2}\n",
      "816\n"
     ]
    },
    {
     "name": "stderr",
     "output_type": "stream",
     "text": [
      "2024-09-21 19:43:57,502 - httpx - INFO - HTTP Request: POST https://api.openai.com/v1/chat/completions \"HTTP/1.1 200 OK\"\n",
      "2024-09-21 19:43:57,505 - __main__ - INFO - Attempt: 1 to extract the Python dictionary from the text\n",
      "2024-09-21 19:43:58,756 - httpx - INFO - HTTP Request: POST https://api.openai.com/v1/chat/completions \"HTTP/1.1 200 OK\"\n"
     ]
    },
    {
     "name": "stdout",
     "output_type": "stream",
     "text": [
      "{'neutral': 0.3, 'positive': 0.4, 'negative': 0.3}\n",
      "826\n"
     ]
    },
    {
     "name": "stderr",
     "output_type": "stream",
     "text": [
      "2024-09-21 19:43:59,763 - httpx - INFO - HTTP Request: POST https://api.openai.com/v1/chat/completions \"HTTP/1.1 200 OK\"\n",
      "2024-09-21 19:43:59,769 - __main__ - INFO - Attempt: 1 to extract the Python dictionary from the text\n",
      "2024-09-21 19:44:00,552 - httpx - INFO - HTTP Request: POST https://api.openai.com/v1/chat/completions \"HTTP/1.1 200 OK\"\n"
     ]
    },
    {
     "name": "stdout",
     "output_type": "stream",
     "text": [
      "{'neutral': 0.1, 'positive': 0.6, 'negative': 0.3}\n",
      "1\n",
      "1\n",
      "1\n",
      "1\n",
      "1\n",
      "1\n",
      "1\n",
      "1\n",
      "1\n"
     ]
    }
   ],
   "source": [
    "model_name = OPENAI_MODEL\n",
    "sentiment_prompt = SENTIMENT_PROMPT\n",
    "\n",
    "# Establish logging\n",
    "logging.basicConfig(\n",
    "    level=logging.INFO,\n",
    "    format='%(asctime)s - %(name)s - %(levelname)s - %(message)s',\n",
    "    handlers=[\n",
    "        logging.StreamHandler()          # Log messages to the console (stdout)\n",
    "    ]\n",
    ")\n",
    "logger = logging.getLogger(__name__)\n",
    "\n",
    "song_lyrics_col = 'lyrics'\n",
    "tgt_col = 'sentiment2'\n",
    "\n",
    "\n",
    "for ii, (idx, row) in enumerate(dffinal.iterrows()):\n",
    "    if row['selected_sentiment2'] != 'neutral':\n",
    "        continue\n",
    "    print(idx)        \n",
    "    prompt = sentiment_prompt.format(song=row[song_lyrics_col])\n",
    "    chatgpt_msg_request = prepare_chatgpt_msg(prompt, '', [])\n",
    "    response = chatgpt_request_extraction(chatgpt_msg_request, model_name, client)\n",
    "    response_text = response.choices[0].message.content\n",
    "    \n",
    "    extracted_dict = extract_valid_dict(response_text, model_name, client, logger, max_attempts=5)\n",
    "    print(extracted_dict)\n",
    "    dffinal.loc[idx, tgt_col] = str(extracted_dict)\n",
    "\n",
    "    # if ii ==10:\n",
    "    #     break\n",
    "\n",
    "calc_sentiment(dffinal, tgt_col, 'selected_sentiment2')\n"
   ]
  },
  {
   "cell_type": "code",
   "execution_count": 88,
   "id": "242f77d0-2797-4669-a10e-15fe53a108e3",
   "metadata": {},
   "outputs": [
    {
     "name": "stdout",
     "output_type": "stream",
     "text": [
      "------------------------------- (0, 98) --------------------------\n",
      "Donde Estan Esos Amigos by El Chaval de la Bachata\n",
      "The realization of who true friends are when facing financial hardship and loss.\n",
      "{'positive': 0.1, 'neutral': 0.2, 'negative': 0.7}\n",
      "------------------------------- (1, 792) --------------------------\n",
      "Corazón Anestesiado by Milly Quezada\n",
      "The deep pain and betrayal felt after a devastating breakup, feeling as if the heart is numb while grappling with the emotional turmoil of lost love and the insincerity of the partner who hurt them.\n",
      "{'neutral': 0.05, 'positive': 0.1, 'negative': 0.85}\n",
      "------------------------------- (2, 451) --------------------------\n",
      "Preguntando by ​sP Polanco (Ft. 24 Horas, Joell & Mickey Then)\n",
      "Reflecting on the pain and confusion of a relationship that is growing distant despite mutual love.\n",
      "{'neutral': 0.2, 'positive': 0.1, 'negative': 0.7}\n",
      "------------------------------- (3, 209) --------------------------\n",
      "Ya No Me Quieres Querer by Antony Santos\n",
      "Heartbreak and desperation over unrequited love, with a plea to rekindle the relationship.\n",
      "{'positive': 0.05, 'neutral': 0.1, 'negative': 0.85}\n",
      "------------------------------- (4, 41) --------------------------\n",
      "Fui a Jamaica by Romeo Santos\n",
      "Desperation and unyielding love leading to extreme actions in the hope of winning someone's affection.\n",
      "{'neutral': 0.2, 'positive': 0.25, 'negative': 0.55}\n",
      "------------------------------- (5, 485) --------------------------\n",
      "Peligro by Aventura\n",
      "A man's lament about a deceitful and cruel woman who has brought him ruin and heartbreak, warning others of her dangerous nature.\n",
      "{'positive': 0.05, 'neutral': 0.1, 'negative': 0.85}\n",
      "------------------------------- (6, 601) --------------------------\n",
      "Amigos por siempre by Los Roba Corazones (Ft. Henry Santos)\n",
      "The enduring bond of friendship despite absence and the hope for a future reunion.\n",
      "{'neutral': 0.1, 'positive': 0.3, 'negative': 0.6}\n",
      "------------------------------- (7, 597) --------------------------\n",
      "Limbo by Jensen Hasir\n",
      "Struggling with the aftermath of a complicated and emotionally conflicting relationship, tormented by lingering feelings and a lack of closure.\n",
      "{'neutral': 0.2, 'positive': 0.1, 'negative': 0.7}\n",
      "------------------------------- (8, 319) --------------------------\n",
      "La Mujer Que Yo Más Quiero by Luis Vargas\n",
      "Desperation and determination to find a lost love.\n",
      "{'neutral': 0.1, 'positive': 0.3, 'negative': 0.6}\n",
      "------------------------------- (9, 628) --------------------------\n",
      "Muy Lindo Amor by Frank Reyes\n",
      "The disillusionment and pain that arise from failed love and unfulfilled promises.\n",
      "{'neutral': 0.1, 'positive': 0.1, 'negative': 0.8}\n"
     ]
    }
   ],
   "source": [
    "df = pd.read_csv('/home/or/dev/latin_music_statistics/crawler/data_dir/final_data.csv', encoding='utf-8')\n",
    "senti = 'negative'\n",
    "sdf = df[df['selected_sentiment'] ==  senti]\n",
    "for ii, (idx, row) in enumerate(sdf.sample(10).iterrows()):\n",
    "        print(f'------------------------------- {ii, idx} --------------------------')\n",
    "        print(row['title_with_artists'])        \n",
    "        print(row['theme'])\n",
    "        print(row['sentiment'])"
   ]
  },
  {
   "cell_type": "code",
   "execution_count": null,
   "id": "c6624732-e891-4b44-8a33-31d71780e434",
   "metadata": {},
   "outputs": [],
   "source": []
  }
 ],
 "metadata": {
  "kernelspec": {
   "display_name": "Python 3 (ipykernel)",
   "language": "python",
   "name": "python3"
  },
  "language_info": {
   "codemirror_mode": {
    "name": "ipython",
    "version": 3
   },
   "file_extension": ".py",
   "mimetype": "text/x-python",
   "name": "python",
   "nbconvert_exporter": "python",
   "pygments_lexer": "ipython3",
   "version": "3.12.3"
  }
 },
 "nbformat": 4,
 "nbformat_minor": 5
}
